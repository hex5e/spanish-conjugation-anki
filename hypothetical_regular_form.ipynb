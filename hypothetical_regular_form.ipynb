{
 "cells": [
  {
   "cell_type": "code",
   "execution_count": null,
   "id": "ff377a92",
   "metadata": {},
   "outputs": [],
   "source": [
    "\"\"\"\n",
    "This script fills out the hypothetical_regular_form field in cards.csv\n",
    "Each cell is for a different tense/person combination.\n",
    "\"\"\""
   ]
  },
  {
   "cell_type": "code",
   "execution_count": null,
   "id": "e614b865",
   "metadata": {},
   "outputs": [],
   "source": [
    "\"\"\"\n",
    "Add gerundio forms to the cards.csv file, including reflexive verbs (ending in 'se').\n",
    "\"\"\"\n",
    "\n",
    "import pandas as pd\n",
    "\n",
    "# Load the CSV\n",
    "df = pd.read_csv('cards.csv')\n",
    "\n",
    "def get_gerundio(verb):\n",
    "    # Handle reflexive verbs ending in 'se'\n",
    "    is_reflexive = False\n",
    "    if verb.endswith('se'):\n",
    "        is_reflexive = True\n",
    "        base = verb[:-2]  # Remove 'se'\n",
    "    else:\n",
    "        base = verb\n",
    "    if base.endswith('ar'):\n",
    "        form = base[:-2] + 'ando'\n",
    "    elif base.endswith('er') or base.endswith('ir') or base.endswith('ír'):\n",
    "        form = base[:-2] + 'iendo'\n",
    "    else:\n",
    "        form = ''\n",
    "    if is_reflexive:\n",
    "        form += 'se'\n",
    "    return form\n",
    "\n",
    "# Only update rows where tense is 'gerundio'\n",
    "mask = df['tense'] == 'gerundio'\n",
    "df.loc[mask, 'hypothetical_regular_form'] = df.loc[mask, 'verb'].apply(get_gerundio)\n",
    "\n",
    "# Save the updated CSV\n",
    "df.to_csv('cards.csv', index=False)"
   ]
  },
  {
   "cell_type": "code",
   "execution_count": 3,
   "id": "5c4c6bbb",
   "metadata": {},
   "outputs": [
    {
     "name": "stdout",
     "output_type": "stream",
     "text": [
      "iendose\n"
     ]
    }
   ],
   "source": [
    "def get_gerundio(verb):\n",
    "    # Handle reflexive verbs ending in 'se'\n",
    "    is_reflexive = False\n",
    "    if verb.endswith('se'):\n",
    "        is_reflexive = True\n",
    "        base = verb[:-2]  # Remove 'se'\n",
    "    else:\n",
    "        base = verb\n",
    "    if base.endswith('ar'):\n",
    "        form = base[:-2] + 'ando'\n",
    "    elif base.endswith('er') or base.endswith('ir') or base.endswith('ír'):\n",
    "        form = base[:-2] + 'iendo'\n",
    "    else:\n",
    "        form = ''\n",
    "    if is_reflexive:\n",
    "        form += 'se'\n",
    "    return form\n",
    "\n",
    "verb = 'irse'\n",
    "print(get_gerundio(verb))  # Output: hablando"
   ]
  }
 ],
 "metadata": {
  "kernelspec": {
   "display_name": ".pyvenv",
   "language": "python",
   "name": "python3"
  },
  "language_info": {
   "codemirror_mode": {
    "name": "ipython",
    "version": 3
   },
   "file_extension": ".py",
   "mimetype": "text/x-python",
   "name": "python",
   "nbconvert_exporter": "python",
   "pygments_lexer": "ipython3",
   "version": "3.13.3"
  }
 },
 "nbformat": 4,
 "nbformat_minor": 5
}
