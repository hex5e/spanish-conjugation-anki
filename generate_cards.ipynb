{
 "cells": [
  {
   "cell_type": "code",
   "execution_count": null,
   "id": "38385f65",
   "metadata": {},
   "outputs": [],
   "source": [
    "\"\"\"\n",
    "Add hypothetical regular form conjugations for all cards in cards.csv\n",
    "\"\"\"\n",
    "\n",
    "import pandas as pd\n",
    "\n",
    "# Load the CSV\n",
    "df = pd.read_csv('cards.csv')\n",
    "\n",
    "def get_gerundio(verb):\n",
    "    if verb.endswith('ar'):\n",
    "        return verb[:-2] + 'ando'\n",
    "    elif verb.endswith('er') or verb.endswith('ir') or verb.endswith('ír'):\n",
    "        return verb[:-2] + 'iendo'\n",
    "    return ''\n",
    "\n",
    "# Only update rows where tense is 'gerundio'\n",
    "mask = df['tense'] == 'gerundio'\n",
    "df.loc[mask, 'hypothetical_regular_form'] = df.loc[mask, 'verb'].apply(get_gerundio)\n",
    "\n",
    "# Save the updated CSV\n",
    "df.to_csv('cards.csv', index=False)"
   ]
  },
  {
   "cell_type": "code",
   "execution_count": null,
   "id": "c7d885e3",
   "metadata": {},
   "outputs": [
    {
     "name": "stdout",
     "output_type": "stream",
     "text": [
      "     country   capital  population\n",
      "0     Canada    Ottawa    38005238\n",
      "1      Japan     Tokyo   126476461\n",
      "2     Brazil  Brasília   213993437\n",
      "3    Germany    Berlin    83783942\n",
      "4  Australia  Canberra    25687041\n"
     ]
    }
   ],
   "source": [
    "\"\"\"\n",
    "Generate a JSON table with ChatGPT and load it into a pandas DataFrame\n",
    "(openai-python ≥ 1.0 syntax)\n",
    "\"\"\"\n",
    "from openai import OpenAI\n",
    "import pandas as pd\n",
    "import json, os\n",
    "from io import StringIO      # only needed for the CSV option below\n",
    "\n",
    "client = OpenAI()            # uses OPENAI_API_KEY from your environment\n",
    "\n",
    "# ----- ask ChatGPT for data ---------------------------------------------\n",
    "prompt = (\n",
    "    \"Return a JSON object with a key 'row' whose value is a list of \"\n",
    "    \"exactly five objects. Each object must have the keys \"\n",
    "    \"'country', 'capital', and 'population'. Output ONLY valid JSON.\"\n",
    ")\n",
    "\n",
    "response = client.chat.completions.create(\n",
    "    model=\"gpt-4o-mini\",             # any chat-capable model works\n",
    "    messages=[{\"role\": \"user\", \"content\": prompt}],\n",
    "    temperature=0,\n",
    "    response_format={\"type\": \"json_object\"}  # makes the model emit strict JSON\n",
    ")\n",
    "\n",
    "# ----- turn the JSON into a DataFrame ------------------------------------\n",
    "data = json.loads(response.choices[0].message.content)\n",
    "df   = pd.DataFrame(data[\"countries\"])      # unpack the list under 'countries'\n",
    "\n",
    "print(df)\n",
    "\n",
    "# ---- OPTIONAL: if you ever ask for raw CSV instead ----------------------\n",
    "# csv_text = response.choices[0].message.content.lstrip(\"`csv\").strip(\"`\")\n",
    "# df = pd.read_csv(StringIO(csv_text))\n"
   ]
  }
 ],
 "metadata": {
  "kernelspec": {
   "display_name": ".pyvenv",
   "language": "python",
   "name": "python3"
  },
  "language_info": {
   "codemirror_mode": {
    "name": "ipython",
    "version": 3
   },
   "file_extension": ".py",
   "mimetype": "text/x-python",
   "name": "python",
   "nbconvert_exporter": "python",
   "pygments_lexer": "ipython3",
   "version": "3.13.3"
  }
 },
 "nbformat": 4,
 "nbformat_minor": 5
}
