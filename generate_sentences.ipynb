{
 "cells": [
  {
   "cell_type": "code",
   "execution_count": 7,
   "id": "c7d885e3",
   "metadata": {},
   "outputs": [
    {
     "name": "stdout",
     "output_type": "stream",
     "text": [
      "     country   capital  population\n",
      "0     Canada    Ottawa    38005238\n",
      "1      Japan     Tokyo   126476461\n",
      "2     Brazil  Brasília   213993437\n",
      "3    Germany    Berlin    83783942\n",
      "4  Australia  Canberra    25687041\n"
     ]
    }
   ],
   "source": [
    "\"\"\"\n",
    "Generate a JSON table with ChatGPT and load it into a pandas DataFrame\n",
    "(openai-python ≥ 1.0 syntax)\n",
    "\"\"\"\n",
    "from openai import OpenAI\n",
    "import pandas as pd\n",
    "import json, os\n",
    "from io import StringIO      # only needed for the CSV option below\n",
    "\n",
    "client = OpenAI()            # uses OPENAI_API_KEY from your environment\n",
    "\n",
    "# ----- ask ChatGPT for data ---------------------------------------------\n",
    "prompt = (\n",
    "    \"Return a JSON object with a key 'countries' whose value is a list of \"\n",
    "    \"exactly five objects. Each object must have the keys \"\n",
    "    \"'country', 'capital', and 'population'. Output ONLY valid JSON.\"\n",
    ")\n",
    "\n",
    "response = client.chat.completions.create(\n",
    "    model=\"gpt-4o-mini\",             # any chat-capable model works\n",
    "    messages=[{\"role\": \"user\", \"content\": prompt}],\n",
    "    temperature=0,\n",
    "    response_format={\"type\": \"json_object\"}  # makes the model emit strict JSON\n",
    ")\n",
    "\n",
    "# ----- turn the JSON into a DataFrame ------------------------------------\n",
    "data = json.loads(response.choices[0].message.content)\n",
    "df   = pd.DataFrame(data[\"countries\"])      # unpack the list under 'countries'\n",
    "\n",
    "print(df)\n",
    "\n",
    "# ---- OPTIONAL: if you ever ask for raw CSV instead ----------------------\n",
    "# csv_text = response.choices[0].message.content.lstrip(\"`csv\").strip(\"`\")\n",
    "# df = pd.read_csv(StringIO(csv_text))\n"
   ]
  },
  {
   "cell_type": "code",
   "execution_count": 8,
   "id": "367788df",
   "metadata": {},
   "outputs": [
    {
     "data": {
      "text/html": [
       "<div>\n",
       "<style scoped>\n",
       "    .dataframe tbody tr th:only-of-type {\n",
       "        vertical-align: middle;\n",
       "    }\n",
       "\n",
       "    .dataframe tbody tr th {\n",
       "        vertical-align: top;\n",
       "    }\n",
       "\n",
       "    .dataframe thead th {\n",
       "        text-align: right;\n",
       "    }\n",
       "</style>\n",
       "<table border=\"1\" class=\"dataframe\">\n",
       "  <thead>\n",
       "    <tr style=\"text-align: right;\">\n",
       "      <th></th>\n",
       "      <th>country</th>\n",
       "      <th>capital</th>\n",
       "      <th>population</th>\n",
       "    </tr>\n",
       "  </thead>\n",
       "  <tbody>\n",
       "    <tr>\n",
       "      <th>0</th>\n",
       "      <td>Canada</td>\n",
       "      <td>Ottawa</td>\n",
       "      <td>38005238</td>\n",
       "    </tr>\n",
       "    <tr>\n",
       "      <th>1</th>\n",
       "      <td>Japan</td>\n",
       "      <td>Tokyo</td>\n",
       "      <td>126476461</td>\n",
       "    </tr>\n",
       "    <tr>\n",
       "      <th>2</th>\n",
       "      <td>Brazil</td>\n",
       "      <td>Brasília</td>\n",
       "      <td>213993437</td>\n",
       "    </tr>\n",
       "    <tr>\n",
       "      <th>3</th>\n",
       "      <td>Germany</td>\n",
       "      <td>Berlin</td>\n",
       "      <td>83783942</td>\n",
       "    </tr>\n",
       "    <tr>\n",
       "      <th>4</th>\n",
       "      <td>Australia</td>\n",
       "      <td>Canberra</td>\n",
       "      <td>25687041</td>\n",
       "    </tr>\n",
       "  </tbody>\n",
       "</table>\n",
       "</div>"
      ],
      "text/plain": [
       "     country   capital  population\n",
       "0     Canada    Ottawa    38005238\n",
       "1      Japan     Tokyo   126476461\n",
       "2     Brazil  Brasília   213993437\n",
       "3    Germany    Berlin    83783942\n",
       "4  Australia  Canberra    25687041"
      ]
     },
     "execution_count": 8,
     "metadata": {},
     "output_type": "execute_result"
    }
   ],
   "source": [
    "df"
   ]
  }
 ],
 "metadata": {
  "kernelspec": {
   "display_name": ".pyvenv",
   "language": "python",
   "name": "python3"
  },
  "language_info": {
   "codemirror_mode": {
    "name": "ipython",
    "version": 3
   },
   "file_extension": ".py",
   "mimetype": "text/x-python",
   "name": "python",
   "nbconvert_exporter": "python",
   "pygments_lexer": "ipython3",
   "version": "3.13.3"
  }
 },
 "nbformat": 4,
 "nbformat_minor": 5
}
