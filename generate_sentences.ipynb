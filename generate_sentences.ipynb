{
 "cells": [
  {
   "cell_type": "code",
   "execution_count": 4,
   "id": "c7d885e3",
   "metadata": {},
   "outputs": [
    {
     "name": "stdout",
     "output_type": "stream",
     "text": [
      "                                           countries\n",
      "0  {'country': 'Japan', 'capital': 'Tokyo', 'popu...\n",
      "1  {'country': 'Brazil', 'capital': 'Brasília', '...\n",
      "2  {'country': 'Germany', 'capital': 'Berlin', 'p...\n",
      "3  {'country': 'Canada', 'capital': 'Ottawa', 'po...\n",
      "4  {'country': 'Australia', 'capital': 'Canberra'...\n"
     ]
    }
   ],
   "source": [
    "from openai import OpenAI          # new import style\n",
    "from io import StringIO\n",
    "import pandas as pd\n",
    "import os, textwrap, json\n",
    "\n",
    "client = OpenAI()                  # reads OPENAI_API_KEY from env\n",
    "\n",
    "prompt = (\n",
    "    \"Return a JSON array of exactly five objects, \"\n",
    "    \"each with keys 'country', 'capital', 'population'. \"\n",
    "    \"Output only valid JSON—no markdown fences.\"\n",
    ")\n",
    "\n",
    "response = client.chat.completions.create(\n",
    "    model=\"gpt-4o-mini\",           # any chat-capable model ID\n",
    "    messages=[{\"role\": \"user\", \"content\": prompt}],\n",
    "    temperature=0,\n",
    "    response_format={\"type\": \"json_object\"}  # structured-output mode\n",
    ")\n",
    "\n",
    "# -------- turn the JSON into a DataFrame --------\n",
    "records = json.loads(response.choices[0].message.content)\n",
    "df = pd.DataFrame(records)\n",
    "print(df)\n"
   ]
  },
  {
   "cell_type": "code",
   "execution_count": 6,
   "id": "367788df",
   "metadata": {},
   "outputs": [],
   "source": [
    "df.to_clipboard(index=False, header=True)"
   ]
  }
 ],
 "metadata": {
  "kernelspec": {
   "display_name": ".pyvenv",
   "language": "python",
   "name": "python3"
  },
  "language_info": {
   "codemirror_mode": {
    "name": "ipython",
    "version": 3
   },
   "file_extension": ".py",
   "mimetype": "text/x-python",
   "name": "python",
   "nbconvert_exporter": "python",
   "pygments_lexer": "ipython3",
   "version": "3.13.3"
  }
 },
 "nbformat": 4,
 "nbformat_minor": 5
}
